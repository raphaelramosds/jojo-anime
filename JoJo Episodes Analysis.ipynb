{
 "cells": [
  {
   "cell_type": "code",
   "execution_count": 8,
   "id": "71f2e6be",
   "metadata": {
    "scrolled": true
   },
   "outputs": [
    {
     "data": {
      "text/html": [
       "<div>\n",
       "<style scoped>\n",
       "    .dataframe tbody tr th:only-of-type {\n",
       "        vertical-align: middle;\n",
       "    }\n",
       "\n",
       "    .dataframe tbody tr th {\n",
       "        vertical-align: top;\n",
       "    }\n",
       "\n",
       "    .dataframe thead th {\n",
       "        text-align: right;\n",
       "    }\n",
       "</style>\n",
       "<table border=\"1\" class=\"dataframe\">\n",
       "  <thead>\n",
       "    <tr style=\"text-align: right;\">\n",
       "      <th></th>\n",
       "      <th>title</th>\n",
       "      <th>season</th>\n",
       "      <th>ep_number</th>\n",
       "      <th>rate</th>\n",
       "      <th>duration</th>\n",
       "    </tr>\n",
       "  </thead>\n",
       "  <tbody>\n",
       "    <tr>\n",
       "      <th>0</th>\n",
       "      <td>Dio the Invader</td>\n",
       "      <td>1</td>\n",
       "      <td>1</td>\n",
       "      <td>7.4</td>\n",
       "      <td>24.0</td>\n",
       "    </tr>\n",
       "    <tr>\n",
       "      <th>1</th>\n",
       "      <td>Kako kara no tegami</td>\n",
       "      <td>1</td>\n",
       "      <td>2</td>\n",
       "      <td>7.5</td>\n",
       "      <td>24.0</td>\n",
       "    </tr>\n",
       "    <tr>\n",
       "      <th>2</th>\n",
       "      <td>Dio to no seishun</td>\n",
       "      <td>1</td>\n",
       "      <td>3</td>\n",
       "      <td>8.0</td>\n",
       "      <td>26.0</td>\n",
       "    </tr>\n",
       "    <tr>\n",
       "      <th>3</th>\n",
       "      <td>Hamon shissô ôbâdoraibu</td>\n",
       "      <td>1</td>\n",
       "      <td>4</td>\n",
       "      <td>7.1</td>\n",
       "      <td>24.0</td>\n",
       "    </tr>\n",
       "    <tr>\n",
       "      <th>4</th>\n",
       "      <td>Ankoku no kishi-tachi</td>\n",
       "      <td>1</td>\n",
       "      <td>5</td>\n",
       "      <td>7.1</td>\n",
       "      <td>25.0</td>\n",
       "    </tr>\n",
       "    <tr>\n",
       "      <th>...</th>\n",
       "      <td>...</td>\n",
       "      <td>...</td>\n",
       "      <td>...</td>\n",
       "      <td>...</td>\n",
       "      <td>...</td>\n",
       "    </tr>\n",
       "    <tr>\n",
       "      <th>146</th>\n",
       "      <td>The Requiem Quietly Plays, Part 1</td>\n",
       "      <td>4</td>\n",
       "      <td>34</td>\n",
       "      <td>9.2</td>\n",
       "      <td>25.0</td>\n",
       "    </tr>\n",
       "    <tr>\n",
       "      <th>147</th>\n",
       "      <td>The Requiem Quietly Plays, Part 2</td>\n",
       "      <td>4</td>\n",
       "      <td>35</td>\n",
       "      <td>9.4</td>\n",
       "      <td>25.0</td>\n",
       "    </tr>\n",
       "    <tr>\n",
       "      <th>148</th>\n",
       "      <td>Diavolo Surfaces</td>\n",
       "      <td>4</td>\n",
       "      <td>36</td>\n",
       "      <td>9.3</td>\n",
       "      <td>25.0</td>\n",
       "    </tr>\n",
       "    <tr>\n",
       "      <th>149</th>\n",
       "      <td>King of Kings</td>\n",
       "      <td>4</td>\n",
       "      <td>37</td>\n",
       "      <td>9.6</td>\n",
       "      <td>25.0</td>\n",
       "    </tr>\n",
       "    <tr>\n",
       "      <th>150</th>\n",
       "      <td>Gold Experience Requiem</td>\n",
       "      <td>4</td>\n",
       "      <td>38</td>\n",
       "      <td>9.2</td>\n",
       "      <td>25.0</td>\n",
       "    </tr>\n",
       "  </tbody>\n",
       "</table>\n",
       "<p>151 rows × 5 columns</p>\n",
       "</div>"
      ],
      "text/plain": [
       "                                 title  season  ep_number  rate  duration\n",
       "0                      Dio the Invader       1          1   7.4      24.0\n",
       "1                  Kako kara no tegami       1          2   7.5      24.0\n",
       "2                    Dio to no seishun       1          3   8.0      26.0\n",
       "3              Hamon shissô ôbâdoraibu       1          4   7.1      24.0\n",
       "4                Ankoku no kishi-tachi       1          5   7.1      25.0\n",
       "..                                 ...     ...        ...   ...       ...\n",
       "146  The Requiem Quietly Plays, Part 1       4         34   9.2      25.0\n",
       "147  The Requiem Quietly Plays, Part 2       4         35   9.4      25.0\n",
       "148                   Diavolo Surfaces       4         36   9.3      25.0\n",
       "149                      King of Kings       4         37   9.6      25.0\n",
       "150            Gold Experience Requiem       4         38   9.2      25.0\n",
       "\n",
       "[151 rows x 5 columns]"
      ]
     },
     "metadata": {},
     "output_type": "display_data"
    }
   ],
   "source": [
    "import pandas as pd\n",
    "\n",
    "table = pd.read_csv(\"jojo-dataset-csv.csv\")\n",
    "\n",
    "display(table)"
   ]
  },
  {
   "cell_type": "code",
   "execution_count": 11,
   "id": "ba52a7fd",
   "metadata": {},
   "outputs": [
    {
     "data": {
      "text/plain": [
       "25.0    0.490066\n",
       "23.0    0.410596\n",
       "24.0    0.066225\n",
       "26.0    0.033113\n",
       "Name: duration, dtype: float64"
      ]
     },
     "execution_count": 11,
     "metadata": {},
     "output_type": "execute_result"
    }
   ],
   "source": [
    "table[\"duration\"].value_counts(normalize=True)"
   ]
  },
  {
   "cell_type": "code",
   "execution_count": 14,
   "id": "28cdeb97",
   "metadata": {},
   "outputs": [
    {
     "data": {
      "text/plain": [
       "8.43046357615894"
      ]
     },
     "execution_count": 14,
     "metadata": {},
     "output_type": "execute_result"
    }
   ],
   "source": [
    "table[\"rate\"].mean()"
   ]
  }
 ],
 "metadata": {
  "kernelspec": {
   "display_name": "Python 3 (ipykernel)",
   "language": "python",
   "name": "python3"
  },
  "language_info": {
   "codemirror_mode": {
    "name": "ipython",
    "version": 3
   },
   "file_extension": ".py",
   "mimetype": "text/x-python",
   "name": "python",
   "nbconvert_exporter": "python",
   "pygments_lexer": "ipython3",
   "version": "3.10.2"
  }
 },
 "nbformat": 4,
 "nbformat_minor": 5
}

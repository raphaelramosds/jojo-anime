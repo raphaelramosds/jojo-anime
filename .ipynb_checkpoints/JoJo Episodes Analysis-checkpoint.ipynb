{
 "cells": [
  {
   "cell_type": "markdown",
   "id": "ac723fd4",
   "metadata": {
    "papermill": {
     "duration": 0.0103,
     "end_time": "2022-03-04T10:11:40.571600",
     "exception": false,
     "start_time": "2022-03-04T10:11:40.561300",
     "status": "completed"
    },
    "tags": []
   },
   "source": [
    "# Overview\n",
    "\n",
    "By means of IMDb website and a webscraping code, it was possible to fetch data about JoJo episodes from 1th to 4th season as it follows"
   ]
  },
  {
   "cell_type": "code",
   "execution_count": 5,
   "id": "17dff699",
   "metadata": {
    "_kg_hide-input": true,
    "execution": {
     "iopub.execute_input": "2022-03-04T10:11:40.602820Z",
     "iopub.status.busy": "2022-03-04T10:11:40.602063Z",
     "iopub.status.idle": "2022-03-04T10:11:42.365877Z",
     "shell.execute_reply": "2022-03-04T10:11:42.366396Z",
     "shell.execute_reply.started": "2022-03-04T10:08:26.454346Z"
    },
    "papermill": {
     "duration": 1.785248,
     "end_time": "2022-03-04T10:11:42.366728",
     "exception": false,
     "start_time": "2022-03-04T10:11:40.581480",
     "status": "completed"
    },
    "tags": []
   },
   "outputs": [
    {
     "data": {
      "text/html": [
       "<div>\n",
       "<style scoped>\n",
       "    .dataframe tbody tr th:only-of-type {\n",
       "        vertical-align: middle;\n",
       "    }\n",
       "\n",
       "    .dataframe tbody tr th {\n",
       "        vertical-align: top;\n",
       "    }\n",
       "\n",
       "    .dataframe thead th {\n",
       "        text-align: right;\n",
       "    }\n",
       "</style>\n",
       "<table border=\"1\" class=\"dataframe\">\n",
       "  <thead>\n",
       "    <tr style=\"text-align: right;\">\n",
       "      <th></th>\n",
       "      <th>title</th>\n",
       "      <th>season</th>\n",
       "      <th>ep_number</th>\n",
       "      <th>rate</th>\n",
       "      <th>duration</th>\n",
       "    </tr>\n",
       "  </thead>\n",
       "  <tbody>\n",
       "    <tr>\n",
       "      <th>0</th>\n",
       "      <td>Dio the Invader</td>\n",
       "      <td>1</td>\n",
       "      <td>1</td>\n",
       "      <td>7.4</td>\n",
       "      <td>24.0</td>\n",
       "    </tr>\n",
       "    <tr>\n",
       "      <th>1</th>\n",
       "      <td>Kako kara no tegami</td>\n",
       "      <td>1</td>\n",
       "      <td>2</td>\n",
       "      <td>7.5</td>\n",
       "      <td>24.0</td>\n",
       "    </tr>\n",
       "    <tr>\n",
       "      <th>2</th>\n",
       "      <td>Dio to no seishun</td>\n",
       "      <td>1</td>\n",
       "      <td>3</td>\n",
       "      <td>8.0</td>\n",
       "      <td>26.0</td>\n",
       "    </tr>\n",
       "    <tr>\n",
       "      <th>3</th>\n",
       "      <td>Hamon shissô ôbâdoraibu</td>\n",
       "      <td>1</td>\n",
       "      <td>4</td>\n",
       "      <td>7.1</td>\n",
       "      <td>24.0</td>\n",
       "    </tr>\n",
       "    <tr>\n",
       "      <th>4</th>\n",
       "      <td>Ankoku no kishi-tachi</td>\n",
       "      <td>1</td>\n",
       "      <td>5</td>\n",
       "      <td>7.1</td>\n",
       "      <td>25.0</td>\n",
       "    </tr>\n",
       "    <tr>\n",
       "      <th>...</th>\n",
       "      <td>...</td>\n",
       "      <td>...</td>\n",
       "      <td>...</td>\n",
       "      <td>...</td>\n",
       "      <td>...</td>\n",
       "    </tr>\n",
       "    <tr>\n",
       "      <th>146</th>\n",
       "      <td>The Requiem Quietly Plays, Part 1</td>\n",
       "      <td>4</td>\n",
       "      <td>34</td>\n",
       "      <td>9.2</td>\n",
       "      <td>25.0</td>\n",
       "    </tr>\n",
       "    <tr>\n",
       "      <th>147</th>\n",
       "      <td>The Requiem Quietly Plays, Part 2</td>\n",
       "      <td>4</td>\n",
       "      <td>35</td>\n",
       "      <td>9.4</td>\n",
       "      <td>25.0</td>\n",
       "    </tr>\n",
       "    <tr>\n",
       "      <th>148</th>\n",
       "      <td>Diavolo Surfaces</td>\n",
       "      <td>4</td>\n",
       "      <td>36</td>\n",
       "      <td>9.3</td>\n",
       "      <td>25.0</td>\n",
       "    </tr>\n",
       "    <tr>\n",
       "      <th>149</th>\n",
       "      <td>King of Kings</td>\n",
       "      <td>4</td>\n",
       "      <td>37</td>\n",
       "      <td>9.6</td>\n",
       "      <td>25.0</td>\n",
       "    </tr>\n",
       "    <tr>\n",
       "      <th>150</th>\n",
       "      <td>Gold Experience Requiem</td>\n",
       "      <td>4</td>\n",
       "      <td>38</td>\n",
       "      <td>9.2</td>\n",
       "      <td>25.0</td>\n",
       "    </tr>\n",
       "  </tbody>\n",
       "</table>\n",
       "<p>151 rows × 5 columns</p>\n",
       "</div>"
      ],
      "text/plain": [
       "                                 title  season  ep_number  rate  duration\n",
       "0                      Dio the Invader       1          1   7.4      24.0\n",
       "1                  Kako kara no tegami       1          2   7.5      24.0\n",
       "2                    Dio to no seishun       1          3   8.0      26.0\n",
       "3              Hamon shissô ôbâdoraibu       1          4   7.1      24.0\n",
       "4                Ankoku no kishi-tachi       1          5   7.1      25.0\n",
       "..                                 ...     ...        ...   ...       ...\n",
       "146  The Requiem Quietly Plays, Part 1       4         34   9.2      25.0\n",
       "147  The Requiem Quietly Plays, Part 2       4         35   9.4      25.0\n",
       "148                   Diavolo Surfaces       4         36   9.3      25.0\n",
       "149                      King of Kings       4         37   9.6      25.0\n",
       "150            Gold Experience Requiem       4         38   9.2      25.0\n",
       "\n",
       "[151 rows x 5 columns]"
      ]
     },
     "metadata": {},
     "output_type": "display_data"
    }
   ],
   "source": [
    "import pandas as pd\n",
    "import plotly.express as px\n",
    "import matplotlib.pyplot as plt\n",
    "import numpy as np\n",
    "\n",
    "df = pd.read_csv(\"jojo-dataset-csv.csv\")\n",
    "\n",
    "display(df)"
   ]
  },
  {
   "cell_type": "markdown",
   "id": "fe42c228",
   "metadata": {
    "papermill": {
     "duration": 0.009737,
     "end_time": "2022-03-04T10:11:42.386879",
     "exception": false,
     "start_time": "2022-03-04T10:11:42.377142",
     "status": "completed"
    },
    "tags": []
   },
   "source": [
    "## Insights\n",
    "\n",
    "One can see JoJo episodes with rate greater than 9.0 are more concentrated on fourth season, which one might presume this season has the most famous episodes."
   ]
  },
  {
   "cell_type": "code",
   "execution_count": 6,
   "id": "0edb2787",
   "metadata": {
    "_kg_hide-input": true,
    "execution": {
     "iopub.execute_input": "2022-03-04T10:11:42.410340Z",
     "iopub.status.busy": "2022-03-04T10:11:42.409526Z",
     "iopub.status.idle": "2022-03-04T10:11:43.604113Z",
     "shell.execute_reply": "2022-03-04T10:11:43.603518Z",
     "shell.execute_reply.started": "2022-03-04T10:08:26.492345Z"
    },
    "papermill": {
     "duration": 1.207256,
     "end_time": "2022-03-04T10:11:43.604259",
     "exception": false,
     "start_time": "2022-03-04T10:11:42.397003",
     "status": "completed"
    },
    "tags": []
   },
   "outputs": [
    {
     "data": {
      "image/png": "[encoded data removed]",
      "text/plain": [
       "<Figure size 432x288 with 1 Axes>"
      ]
     },
     "metadata": {
      "needs_background": "light"
     },
     "output_type": "display_data"
    }
   ],
   "source": [
    "# Group (rate > 9) by season\n",
    "counts =  df[df.rate > 9][\"season\"].value_counts()\n",
    "\n",
    "# Mounting dataframe\n",
    "df_rategt9 = pd.DataFrame(counts)\n",
    "df_rategt9 = df_rategt9.reset_index()\n",
    "df_rategt9.columns = [\"season\",\"episodes_amount\"]\n",
    "\n",
    "plt.bar(df_rategt9[\"season\"], df_rategt9[\"episodes_amount\"])\n",
    "\n",
    "plt.xticks(np.arange(1,5,1))\n",
    "plt.yticks(np.arange(1,20, 5))\n",
    "\n",
    "plt.ylabel(\"Episodes amount (rate > 9)\")\n",
    "plt.xlabel(\"Season\")\n",
    "\n",
    "plt.show()\n"
   ]
  },
  {
   "cell_type": "markdown",
   "id": "70f167f7",
   "metadata": {
    "papermill": {
     "duration": 0.01168,
     "end_time": "2022-03-04T10:11:43.628733",
     "exception": false,
     "start_time": "2022-03-04T10:11:43.617053",
     "status": "completed"
    },
    "tags": []
   },
   "source": [
    "Below, a bar chart that shows how much time each episode takes in average. One can realize the most long episodes are on fourth season."
   ]
  },
  {
   "cell_type": "code",
   "execution_count": 7,
   "id": "5f17c1b1",
   "metadata": {
    "_kg_hide-input": true,
    "execution": {
     "iopub.execute_input": "2022-03-04T10:11:43.656990Z",
     "iopub.status.busy": "2022-03-04T10:11:43.656165Z",
     "iopub.status.idle": "2022-03-04T10:11:43.739408Z",
     "shell.execute_reply": "2022-03-04T10:11:43.738884Z",
     "shell.execute_reply.started": "2022-03-04T10:08:26.565247Z"
    },
    "papermill": {
     "duration": 0.098017,
     "end_time": "2022-03-04T10:11:43.739548",
     "exception": false,
     "start_time": "2022-03-04T10:11:43.641531",
     "status": "completed"
    },
    "tags": []
   },
   "outputs": [
    {
     "data": {
      "image/png": "[encoded data removed]",
      "text/plain": [
       "<Figure size 432x288 with 1 Axes>"
      ]
     },
     "metadata": {
      "needs_background": "light"
     },
     "output_type": "display_data"
    }
   ],
   "source": [
    "df_mean = df.groupby([\"season\"]).mean()\n",
    "df_mean = df_mean.reset_index()\n",
    "\n",
    "seasons = df_mean[\"season\"]\n",
    "durations = df_mean[\"duration\"]\n",
    "\n",
    "fig, ax = plt.subplots()\n",
    "\n",
    "ax.barh(seasons, durations, align=\"center\")\n",
    "\n",
    "ax.set_xlabel(\"Time (min)\")\n",
    "ax.set_ylabel(\"Season\")\n",
    "\n",
    "plt.yticks(np.arange(1,5,1))\n",
    "plt.xticks(np.arange(0,27, 5))\n",
    "\n",
    "plt.show()\n"
   ]
  },
  {
   "cell_type": "markdown",
   "id": "b5074c2f",
   "metadata": {
    "papermill": {
     "duration": 0.012476,
     "end_time": "2022-03-04T10:11:43.764991",
     "exception": false,
     "start_time": "2022-03-04T10:11:43.752515",
     "status": "completed"
    },
    "tags": []
   },
   "source": [
    "Finally, one can see the less episodes amount are on first season, whereas the biggest one are on second season."
   ]
  },
  {
   "cell_type": "code",
   "execution_count": 8,
   "id": "d68a2d16",
   "metadata": {
    "_kg_hide-input": true,
    "execution": {
     "iopub.execute_input": "2022-03-04T10:11:43.794645Z",
     "iopub.status.busy": "2022-03-04T10:11:43.793806Z",
     "iopub.status.idle": "2022-03-04T10:11:43.873483Z",
     "shell.execute_reply": "2022-03-04T10:11:43.872928Z",
     "shell.execute_reply.started": "2022-03-04T10:09:21.455900Z"
    },
    "papermill": {
     "duration": 0.09574,
     "end_time": "2022-03-04T10:11:43.873640",
     "exception": false,
     "start_time": "2022-03-04T10:11:43.777900",
     "status": "completed"
    },
    "tags": []
   },
   "outputs": [
    {
     "data": {
      "image/png": "[encoded data removed]",
      "text/plain": [
       "<Figure size 432x288 with 1 Axes>"
      ]
     },
     "metadata": {
      "needs_background": "light"
     },
     "output_type": "display_data"
    }
   ],
   "source": [
    "df_count = df.groupby([\"season\"]).count()\n",
    "df_count = df_count.reset_index()\n",
    "\n",
    "amount_episodes = df_count[\"ep_number\"]\n",
    "seasons = df_count[\"season\"]\n",
    "\n",
    "plt.bar(seasons, amount_episodes)\n",
    "plt.xticks(np.arange(1,5,1))\n",
    "plt.yticks(np.arange(0,50, 5))\n",
    "\n",
    "plt.ylabel(\"Amount of episodes\")\n",
    "plt.xlabel(\"Season\")\n",
    "\n",
    "plt.show()"
   ]
  }
 ],
 "metadata": {
  "kernelspec": {
   "display_name": "Python 3 (ipykernel)",
   "language": "python",
   "name": "python3"
  },
  "language_info": {
   "codemirror_mode": {
    "name": "ipython",
    "version": 3
   },
   "file_extension": ".py",
   "mimetype": "text/x-python",
   "name": "python",
   "nbconvert_exporter": "python",
   "pygments_lexer": "ipython3",
   "version": "3.10.2"
  },
  "papermill": {
   "default_parameters": {},
   "duration": 16.169673,
   "end_time": "2022-03-04T10:11:45.000642",
   "environment_variables": {},
   "exception": null,
   "input_path": "__notebook__.ipynb",
   "output_path": "__notebook__.ipynb",
   "parameters": {},
   "start_time": "2022-03-04T10:11:28.830969",
   "version": "2.3.3"
  }
 },
 "nbformat": 4,
 "nbformat_minor": 5
}
